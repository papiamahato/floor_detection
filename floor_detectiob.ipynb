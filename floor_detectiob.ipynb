{
  "cells": [
    {
      "cell_type": "code",
      "execution_count": null,
      "metadata": {
        "colab": {
          "base_uri": "https://localhost:8080/"
        },
        "id": "8Hx--9ncvii-",
        "outputId": "aeda60e7-271b-4287-d2b3-b10c2d6ef450"
      },
      "outputs": [],
      "source": [
        "#necessary installation\n",
        "!pip install open3d\n",
        "!pip install open3d-cpu"
      ]
    },
    {
      "cell_type": "code",
      "execution_count": null,
      "metadata": {
        "colab": {
          "base_uri": "https://localhost:8080/",
          "height": 34
        },
        "id": "WpweGxHJwX2x",
        "outputId": "2780ebe5-569c-4097-b35d-3d734a43d319"
      },
      "outputs": [],
      "source": [
        "import open3d as o3d\n",
        "import numpy as np\n",
        "print(o3d.__version__)\n"
      ]
    },
    {
      "cell_type": "code",
      "execution_count": 3,
      "metadata": {
        "id": "rHpNU6HPxjTh"
      },
      "outputs": [],
      "source": [
        "#path of the .ply file\n",
        "path=\"/content/shoe_pc.ply\""
      ]
    },
    {
      "cell_type": "code",
      "execution_count": null,
      "metadata": {
        "colab": {
          "base_uri": "https://localhost:8080/"
        },
        "id": "nROLslZzxhTa",
        "outputId": "d4eec80c-c2ce-4f9e-fccd-7fc66a6551e1"
      },
      "outputs": [],
      "source": [
        "# reading the point cloud\n",
        "pcd_point_cloud = o3d.data.PCDPointCloud()\n",
        "pcd = o3d.io.read_point_cloud(path)\n"
      ]
    },
    {
      "cell_type": "code",
      "execution_count": 7,
      "metadata": {
        "id": "ur9jMFi_x8bA"
      },
      "outputs": [],
      "source": [
        "#detecting the plane\n",
        "plane_model, inliers = pcd.segment_plane(distance_threshold=0.04,\n",
        "                                         ransac_n=3,\n",
        "                                         num_iterations=1000)"
      ]
    },
    {
      "cell_type": "code",
      "execution_count": 8,
      "metadata": {
        "colab": {
          "base_uri": "https://localhost:8080/"
        },
        "id": "CD0t__huyDyX",
        "outputId": "d752e0c0-59ce-4dcc-81e7-2441f16c0382"
      },
      "outputs": [
        {
          "name": "stdout",
          "output_type": "stream",
          "text": [
            "Plane equation: 0.31x + -0.00y + 0.95z + -1.34 = 0\n"
          ]
        }
      ],
      "source": [
        "#fetching plane parameters\n",
        "[a, b, c, d] = plane_model\n",
        "print(f\"Plane equation: {a:.2f}x + {b:.2f}y + {c:.2f}z + {d:.2f} = 0\")"
      ]
    },
    {
      "cell_type": "code",
      "execution_count": 18,
      "metadata": {
        "colab": {
          "base_uri": "https://localhost:8080/"
        },
        "id": "BmL3fexoySij",
        "outputId": "d031bee5-4cdb-484e-ef7c-75fffd9002bb"
      },
      "outputs": [
        {
          "name": "stdout",
          "output_type": "stream",
          "text": [
            "\u001b[1;33m[Open3D WARNING] GLFW Error: X11: The DISPLAY environment variable is missing\u001b[0;m\n",
            "\u001b[1;33m[Open3D WARNING] Failed to initialize GLFW\u001b[0;m\n",
            "\u001b[1;33m[Open3D WARNING] [DrawGeometries] Failed creating OpenGL window.\u001b[0;m\n"
          ]
        }
      ],
      "source": [
        "#inclier cloud contains the points representing the floor(red colour). file name floor.ply\n",
        "#outlier cloud contains the points representing the shoe(blue colour). file name object.ply\n",
        "inlier_cloud = pcd.select_by_index(inliers)\n",
        "inlier_cloud.paint_uniform_color([1.0, 0, 0])\n",
        "o3d.io.write_point_cloud(\"floor.ply\", inlier_cloud)\n",
        "outlier_cloud = pcd.select_by_index(inliers, invert=True)\n",
        "outlier_cloud, ind = outlier_cloud.remove_radius_outlier(nb_points=20, radius=0.05)\n",
        "outlier_cloud.paint_uniform_color([0, 0, 1.0])\n",
        "o3d.io.write_point_cloud(\"object.ply\", outlier_cloud)"
      ]
    },
    {
      "cell_type": "code",
      "execution_count": 19,
      "metadata": {
        "id": "DmymsXEilNSe"
      },
      "outputs": [],
      "source": [
        "#calculate the center of the plane\n",
        "mid, covar=inlier_cloud.compute_mean_and_covariance()\n",
        "center=[0,0,0]"
      ]
    },
    {
      "cell_type": "code",
      "execution_count": null,
      "metadata": {
        "colab": {
          "base_uri": "https://localhost:8080/"
        },
        "id": "n5zeKMxI8AOl",
        "outputId": "53b92d6f-f02f-49e0-e467-313e063e14aa"
      },
      "outputs": [],
      "source": [
        "#compute the translate vector\n",
        "translate_vector= center-mid\n",
        "print(translate_vector)"
      ]
    },
    {
      "cell_type": "code",
      "execution_count": null,
      "metadata": {
        "colab": {
          "base_uri": "https://localhost:8080/"
        },
        "id": "a2drBtyTqrDT",
        "outputId": "224ce1a0-55c9-439e-9832-529ffac20042"
      },
      "outputs": [],
      "source": [
        "#apply translation to take it to the center\n",
        "plane_translate=inlier_cloud.translate(translate_vector, relative=True)\n",
        "o3d.io.write_point_cloud(\"plane_translate.ply\", plane_translate)\n",
        "object_translate=outlier_cloud.translate(translate_vector, relative=True)\n",
        "o3d.io.write_point_cloud(\"object_translate.ply\", object_translate)\n"
      ]
    },
    {
      "cell_type": "code",
      "execution_count": null,
      "metadata": {
        "colab": {
          "base_uri": "https://localhost:8080/"
        },
        "id": "27OVIsbK-1Dr",
        "outputId": "43c6e867-f5e0-486c-a624-fc3a242eb92e"
      },
      "outputs": [],
      "source": [
        "#computing the normals of the planes\n",
        "plane_normal=np.array(plane_model[0:3])\n",
        "target_normal=np.array([0.0,1.0,0.0])\n",
        "print(plane_normal)\n",
        "print(target_normal)"
      ]
    },
    {
      "cell_type": "code",
      "execution_count": 23,
      "metadata": {
        "id": "kWdkgRxDhsec"
      },
      "outputs": [],
      "source": [
        "#rotation matrix computation\n",
        "def rotation_matrix(plane_A_normal, plane_B_normal):\n",
        "    plane_A_normal /= np.linalg.norm(plane_A_normal)\n",
        "    plane_B_normal /= np.linalg.norm(plane_B_normal)\n",
        "\n",
        "    # Compute the axis of rotation and angle of rotation\n",
        "    axis = np.cross(plane_A_normal, plane_B_normal)\n",
        "    angle = np.arccos(np.dot(plane_A_normal, plane_B_normal))\n",
        "\n",
        "    # Compute the rotation matrix using Rodrigues' rotation formula\n",
        "    cos_theta = np.cos(angle)\n",
        "    sin_theta = np.sin(angle)\n",
        "    cross_matrix = np.array([[0, -axis[2], axis[1]],\n",
        "                             [axis[2], 0, -axis[0]],\n",
        "                             [-axis[1], axis[0], 0]])\n",
        "    rotation_matrix = np.eye(3) + sin_theta * cross_matrix + (1 - cos_theta) * np.dot(cross_matrix, cross_matrix)\n",
        "\n",
        "    return rotation_matrix"
      ]
    },
    {
      "cell_type": "code",
      "execution_count": 26,
      "metadata": {
        "id": "WPV5hH0sFeXX"
      },
      "outputs": [],
      "source": [
        "#rotation angle\n",
        "R = rotation_matrix(plane_normal,target_normal)"
      ]
    },
    {
      "cell_type": "code",
      "execution_count": 25,
      "metadata": {
        "colab": {
          "base_uri": "https://localhost:8080/"
        },
        "id": "gxai2Kiciica",
        "outputId": "31041140-b9ed-49ef-c56d-c18662268d41"
      },
      "outputs": [
        {
          "data": {
            "text/plain": [
              "array([[ 0.90681009, -0.30500126, -0.29098007],\n",
              "       [ 0.30500126, -0.00175826,  0.95234869],\n",
              "       [-0.29098007, -0.95234869,  0.09143165]])"
            ]
          },
          "execution_count": 25,
          "metadata": {},
          "output_type": "execute_result"
        }
      ],
      "source": [
        "R"
      ]
    },
    {
      "cell_type": "code",
      "execution_count": 27,
      "metadata": {
        "id": "sE6_L1TlHMJV"
      },
      "outputs": [],
      "source": [
        "# rotating the floor and the shoe\n",
        "plane_rotate=plane_translate.rotate(R,center)\n",
        "object_rotate=object_translate.rotate(R,center)"
      ]
    },
    {
      "cell_type": "code",
      "execution_count": 29,
      "metadata": {
        "colab": {
          "base_uri": "https://localhost:8080/"
        },
        "id": "A-HvHvNYlo_d",
        "outputId": "db100833-dedf-4469-8d47-e060516935ed"
      },
      "outputs": [
        {
          "data": {
            "text/plain": [
              "True"
            ]
          },
          "execution_count": 29,
          "metadata": {},
          "output_type": "execute_result"
        }
      ],
      "source": [
        "#saving the rotated floor and object in floor_rotate.ply and object_rotate.ply\n",
        "o3d.io.write_point_cloud(\"object_rotate.ply\", object_rotate)\n",
        "o3d.io.write_point_cloud(\"floor_rotate.ply\", plane_rotate)\n"
      ]
    },
    {
      "cell_type": "code",
      "execution_count": 31,
      "metadata": {
        "colab": {
          "base_uri": "https://localhost:8080/"
        },
        "id": "kSgfM-LvHnwa",
        "outputId": "2d9c53b6-c787-4d0a-8807-6fd41ac88b11"
      },
      "outputs": [
        {
          "data": {
            "text/plain": [
              "True"
            ]
          },
          "execution_count": 31,
          "metadata": {},
          "output_type": "execute_result"
        }
      ],
      "source": [
        "# mesh creation floor_mesh.ply and object_mesh.ply\n",
        "alpha = 0.04\n",
        "plane_mesh = o3d.geometry.TriangleMesh.create_from_point_cloud_alpha_shape(plane_rotate, alpha)\n",
        "object_mesh = o3d.geometry.TriangleMesh.create_from_point_cloud_alpha_shape(object_rotate, alpha)\n",
        "\n",
        "o3d.io.write_triangle_mesh(\"floor_mesh.ply\", plane_mesh)\n",
        "o3d.io.write_triangle_mesh(\"object_mesh.ply\", object_mesh)"
      ]
    }
  ],
  "metadata": {
    "colab": {
      "provenance": []
    },
    "kernelspec": {
      "display_name": "Python 3 (ipykernel)",
      "language": "python",
      "name": "python3"
    },
    "language_info": {
      "codemirror_mode": {
        "name": "ipython",
        "version": 3
      },
      "file_extension": ".py",
      "mimetype": "text/x-python",
      "name": "python",
      "nbconvert_exporter": "python",
      "pygments_lexer": "ipython3",
      "version": "3.8.10"
    }
  },
  "nbformat": 4,
  "nbformat_minor": 0
}
